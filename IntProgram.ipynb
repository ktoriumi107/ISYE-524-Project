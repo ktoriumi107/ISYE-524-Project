{
 "cells": [
  {
   "cell_type": "markdown",
   "id": "541a9f13-306a-418a-a55d-3b631a6c4fef",
   "metadata": {},
   "source": [
    "# Optimized Meal Planning\n",
    "\n",
    "## Define the model\n",
    "\n",
    "Data\n",
    "\n",
    "$$\n",
    "\\begin{aligned}\n",
    "T, \\text{the set of discrete time periods} \\\\\n",
    "I, \\text{the set of ingredients that are available} \\\\\n",
    "N, \\text{the set of nutrients that are tracked} \\\\\n",
    "R, \\text{the set of known recipes} \\\\\n",
    "F_{in}, \\text{the amount of nutrient } n \\text{ in ingredient } i,\\ \\forall i \\in I,\\ n \\in N \\\\\n",
    "S_{n}, \\text{the amount of nutrient } n \\text{ that is needed each week for a healthy diet} \\\\\n",
    "C_{i}, \\text{the cost of a single quantity of ingredient } i,\\ \\forall i \\in I \\\\\n",
    "V_{i}, \\text{the volume of a single quantity of ingredient } i,\\ \\forall i \\in I \\\\\n",
    "Fr, \\text{the max volume of the fridge} \\\\\n",
    "Req_{ir}, \\text{the amount of ingredient i needed for recipe} \\ l \\ \\forall i \\in I, r \\in R \\\\\n",
    "MAX, \\text{the maximum number of recipes that can be made in a week}\n",
    "\\end{aligned}\n",
    "$$\n",
    "\n",
    "Only consider whether or not to buy an ingredient as an integer variable. The argument for this is that in real life, a recipe can be made with any amount of an ingredient but stores usually sell ingredients in preset sizes.\n",
    "\n",
    "Decision variables:\n",
    "- $x_{it}$, binary variable representing if ingredient i bought in week k, $\\forall i \\in I, t \\in T$\n",
    "- $y_{rt}$, the amount of recipe $l$ to make in week k, $\\forall r \\in R, t \\in T$\n",
    "- $z_{it}$, the amount of ingredient i to store in the fridge in week k, $\\forall i \\in I, t \\in T$\n",
    "\n",
    "Integer Program:\n",
    "\\begin{align}\n",
    "\\min \\sum_{t \\in T} \\sum_{i \\in I} x_{it} * C_i \\\\\n",
    "\\text{s.t. } \\sum_{r \\in R} \\sum_{i \\in I} y_{rt} * Req_{ir} * F_{in} \\geq S_{n}, \\forall t \\in T, n \\in N \\\\\n",
    "\\sum_{i \\in I} z_{it} * V_{i} \\leq Fr, \\forall t \\in T \\\\\n",
    "z_{i0} = 0, \\forall i \\in I \\\\\n",
    "x_{it}*V_i + z_{i,t-1} = \\sum_{r \\in R} y_{rt} * Req_{ir} + z_{it}, \\forall t \\in T, i \\in I \\\\\n",
    "\\sum_{r \\in R} y_{rt} \\leq MAX, \\forall t \\in T \\\\\n",
    "y_{rt}, z_{it} \\geq 0, \\forall i \\in I, t \\in T, x_{it} \\text{ is binary}\n",
    "\\end{align}\n",
    "\n",
    "- The first constraint ensures there are enough nutrients\n",
    "- The second constraint ensures that the fridge is not overfilled\n",
    "- The third constraint sets the intial amount of food to 0\n",
    "- The fourth constraint ensures that the amount of each ingredient being consumed is balanced by the amount being bought\n",
    "- The fifth constraint limits the amount of recipes made in a week (i.e. only 7 recipes worth of recipes being made)"
   ]
  },
  {
   "cell_type": "code",
   "execution_count": 12,
   "id": "e47b640b-17a7-407a-8289-f9a8cdd89556",
   "metadata": {},
   "outputs": [
    {
     "name": "stdout",
     "output_type": "stream",
     "text": [
      "What ingredients to buy in each week\n"
     ]
    },
    {
     "data": {
      "text/plain": [
       "3×10 Named Matrix{Float64}\n",
       "Ingredients ╲ Week │   1    2    3    4    5    6    7    8    9   10\n",
       "───────────────────┼─────────────────────────────────────────────────\n",
       "rice               │ 1.0  0.0  1.0  0.0  0.0  1.0  0.0  0.0  0.0  0.0\n",
       "chicken_nuggets    │ 0.0  0.0  0.0  0.0  0.0  0.0  0.0  0.0  0.0  0.0\n",
       "steak              │ 1.0  0.0  0.0  0.0  0.0  0.0  0.0  0.0  0.0  0.0"
      ]
     },
     "metadata": {},
     "output_type": "display_data"
    },
    {
     "name": "stdout",
     "output_type": "stream",
     "text": [
      "\n",
      "Recipes cooked per week\n"
     ]
    },
    {
     "data": {
      "text/plain": [
       "2×10 Named Matrix{Float64}\n",
       "Recipes ╲ Week │       1        2        3  …        8        9       10\n",
       "───────────────┼────────────────────────────────────────────────────────\n",
       "steak_and_rice │ 1.11111  1.11111  1.11111  …  1.11111  1.11111  1.11111\n",
       "just_nuggets   │     0.0      0.0      0.0  …      0.0      0.0      0.0"
      ]
     },
     "metadata": {},
     "output_type": "display_data"
    },
    {
     "name": "stdout",
     "output_type": "stream",
     "text": [
      "\n",
      "How much of each ingredient to store each week\n"
     ]
    },
    {
     "data": {
      "text/plain": [
       "3×10 Named Matrix{Float64}\n",
       "  Stored ╲ Week │       1        2        3  …        8        9       10\n",
       "────────────────┼────────────────────────────────────────────────────────\n",
       "rice            │ 14.4444  8.88889  23.3333  …  15.5556     10.0  4.44444\n",
       "chicken_nuggets │     0.0      0.0      0.0         0.0      0.0      0.0\n",
       "steak           │ 36.6667  33.3333     30.0  …  13.3333     10.0  6.66667"
      ]
     },
     "metadata": {},
     "output_type": "display_data"
    },
    {
     "name": "stdout",
     "output_type": "stream",
     "text": [
      "\n",
      "Total cost 30.0\n"
     ]
    }
   ],
   "source": [
    "# for now leave out multi-period planning and general form - too complex\n",
    "using Random, NamedArrays\n",
    "\n",
    "T_end = 10\n",
    "T = 1:T_end\n",
    "FR_CAP = 100\n",
    "\n",
    "# Data 1:\n",
    "I = [:rice, :chicken_nuggets, :steak]\n",
    "N = [:calories, :protein]\n",
    "R = [:steak_and_rice, :just_nuggets]\n",
    "Req = NamedArray([5 0 3; 0 10 0], (R, I), (\"Recipes\", \"Ingredients\")) \n",
    "F = NamedArray([300 0; 200 5; 400 30], (I, N), (\"Ingredients\", \"Nutrients\"))\n",
    "S = NamedArray([2000, 100], N, \"Nutrient Requirements\")\n",
    "C = NamedArray([5 5 15; 5 5 15; 5 5 15; 5 5 15; 5 5 15;\n",
    "    5 5 15; 5 5 15; 5 5 15; 5 5 15; 5 5 15;],\n",
    "    (T, I), (\"Week\", \"Ingredients\"))\n",
    "V = NamedArray([20, 20, 40], I, \"Volume\")\n",
    "\n",
    "#Data 2:\n",
    "# Random.seed!(300)\n",
    "# I = [\"rice\", \"chicken nuggets\", \"steak\",\n",
    "# \"apple\", \"orange\", \"celery\", \"yogurt\"]\n",
    "# cost of item is roughly equivalent to string length\n",
    "# C = [length(I)]\n",
    "# for i in length(I)\n",
    "#     C[i] = length(I[i]) + 2 * Random.randn()\n",
    "# end\n",
    "\n",
    "# make the model\n",
    "using JuMP, HiGHS\n",
    "\n",
    "m = Model(HiGHS.Optimizer)\n",
    "\n",
    "@variable(m, x[T, I], Bin)\n",
    "@variable(m, y[T, R] >= 0)\n",
    "@variable(m, z[T, I] >= 0)\n",
    "\n",
    "# Indexing Guide:\n",
    "#\n",
    "# t - time, i - ingredient, r - recipe, n - nutrient\n",
    "# x[t, i], y[t, r], Req[r, i], F[i, n]\n",
    "\n",
    "@constraint(m, nutr_satisfied[n in N, t in T],\n",
    "    sum(y[t, r] * sum(Req[r, i] * F[i, n] for i in I) for r in R) >= S[n])\n",
    "\n",
    "#@constraint(m, enough_ingr_for_recipes[i in I, t in T],\n",
    "  #  x[t, i]*V[i] >= sum( Req[r, i]*y[t, r] for r in R )) \n",
    "\n",
    "@constraint(m, fridge_capacity[t in T], sum( x[t, i]*V[i] for i in I ) <= FR_CAP)\n",
    "\n",
    "@constraint(m, first_ingredient_bal[i in I], x[1, i]*V[i] == sum( y[1,r] * Req[r,i] for r in R) + z[1, i])\n",
    "\n",
    "@constraint(m, ingredient_bal[t in 2:T_end, i in I], x[t, i]*V[i] + z[t-1, i] == sum( y[t,r] * Req[r,i] for r in R) + z[t, i])\n",
    "\n",
    "@objective(m, Min, sum( x[t, i] * C[t, i] for i in I, t in T ))\n",
    "\n",
    "set_silent(m)\n",
    "optimize!(m)\n",
    "\n",
    "ingredient_values = NamedArray( [ (value(x[t,i])) for i in I, t in T ], (I, T), (\"Ingredients\", \"Week\"))\n",
    "recipe_values = NamedArray( [ (value(y[t,r])) for r in R, t in T ], (R, T), (\"Recipes\", \"Week\"))\n",
    "fridge_values = NamedArray( [ (value(z[t,i])) for i in I, t in T ], (I, T), (\"Stored\", \"Week\"))\n",
    "\n",
    "println(\"What ingredients to buy in each week\")\n",
    "display(ingredient_values)\n",
    "println()\n",
    "\n",
    "println(\"Recipes cooked per week\")\n",
    "display(recipe_values)\n",
    "println()\n",
    "\n",
    "println(\"How much of each ingredient to store each week\")\n",
    "display(fridge_values)\n",
    "println()\n",
    "\n",
    "# println(\"Buy ingredients \", value.(x))\n",
    "# println(\"Make recipes \", value.(y))\n",
    "println(\"Total cost \", objective_value(m))"
   ]
  },
  {
   "cell_type": "code",
   "execution_count": 9,
   "id": "b11053ef-7d7d-4ebb-bb66-2e47b1777b5a",
   "metadata": {},
   "outputs": [],
   "source": [
    "#using DataFrames, CSV\n",
    "#df = CSV.read(\"stigler.csv\",DataFrame,delim=',')"
   ]
  },
  {
   "cell_type": "code",
   "execution_count": null,
   "id": "d60985b7-c139-47d3-9d2c-186e831f35b9",
   "metadata": {},
   "outputs": [],
   "source": []
  }
 ],
 "metadata": {
  "kernelspec": {
   "display_name": "Julia 1.11.5",
   "language": "julia",
   "name": "julia-1.11"
  },
  "language_info": {
   "file_extension": ".jl",
   "mimetype": "application/julia",
   "name": "julia",
   "version": "1.11.5"
  }
 },
 "nbformat": 4,
 "nbformat_minor": 5
}
