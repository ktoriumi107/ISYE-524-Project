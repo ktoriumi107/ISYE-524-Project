{
 "cells": [
  {
   "cell_type": "markdown",
   "id": "541a9f13-306a-418a-a55d-3b631a6c4fef",
   "metadata": {},
   "source": [
    "# Optimized Meal Planning\n",
    "\n",
    "## Define the model\n",
    "\n",
    "Data\n",
    "\n",
    "$$\n",
    "\\begin{aligned}\n",
    "T, \\text{the set of discrete time periods} \\\\\n",
    "I, \\text{the set of ingredients that are available} \\\\\n",
    "N, \\text{the set of nutrients that are tracked} \\\\\n",
    "R, \\text{the set of known recipes} \\\\\n",
    "F_{ij}, \\text{the amount of nutrient } j \\text{ in a unit amount of ingredient } i,\\ \\forall i \\in I,\\ j \\in N \\\\\n",
    "S_{j}, \\text{the amount of nutrient } j \\text{ that is needed each week for a healthy diet} \\\\\n",
    "C_{i}, \\text{the unit cost of ingredient } i,\\ \\forall i \\in I \\\\\n",
    "V_{i}, \\text{the unit volume of ingredient } i,\\ \\forall i \\in I \\\\\n",
    "Fr, \\text{the max volume of the fridge} \\\\\n",
    "Req_{il}, \\text{the amount of ingredient i needed for recipe} \\ l \\ \\forall i \\in I, l \\in R \\\\\n",
    "MAX, \\text{the maximum number of recipes that can be made in a week} (tentative)\n",
    "\\end{aligned}\n",
    "$$\n",
    "\n",
    "\n",
    "Decision variables:\n",
    "- $x_{ik}$, the amount of ingredient i bought in week k, $\\forall i \\in I, k \\in T$\n",
    "- $y_{lk}$, the amount of recipe $l$ to make in week k, $\\forall l \\in R, k \\in T$\n",
    "- $z_{ik}$, the amount of ingredient i to store in the fridge in week k, $\\forall i \\in I, k \\in T$\n",
    "\n",
    "Linear Program:\n",
    "\\begin{align}\n",
    "\\min \\sum_{k \\in T} \\sum_{i \\in I} x_{ik} * C_i \\\\\n",
    "\\text{s.t. } \\sum_{l \\in R} \\sum_{i \\in I} y_{lk} * Req_{il} * F_{ij} \\geq S_{j}, \\forall k \\in T, j \\in N \\\\\n",
    "\\sum_{i \\in I} z_{ik} * V_{i} \\leq Fr, \\forall k \\in T \\\\\n",
    "z_{i0} = 0, \\forall i \\in I \\\\\n",
    "x_{ik} + z_{i,k-1} = \\sum_{l \\in R} y_{lk} * Req_{il} + z_{ik}, \\forall k \\in T, i \\in I \\\\\n",
    "\\sum_{l \\in R} y_{lk} \\leq MAX, \\forall k \\in T \\\\\n",
    "y_{lk}, x_{ik}, z_{ik} \\geq 0, \\forall i \\in I, k \\in T\n",
    "\\end{align}\n",
    "\n",
    "- The first constraint ensures there are enough nutrients\n",
    "- The second constraint ensures that the fridge is not overfilled\n",
    "- The third constraint sets the intial amount of food to 0\n",
    "- The fourth constraint ensures that the amount of each ingredient being consumed is balanced by the amount being bought\n",
    "- The fifth constraint limits the amount of recipes made in a week (i.e. only 7 recipes worth of recipes being made)"
   ]
  },
  {
   "cell_type": "code",
   "execution_count": 41,
   "id": "e47b640b-17a7-407a-8289-f9a8cdd89556",
   "metadata": {},
   "outputs": [
    {
     "data": {
      "text/plain": [
       "10×3 Named Matrix{Float64}\n",
       "Week ╲ Ingredients │            rice  chicken_nuggets            steak\n",
       "───────────────────┼──────────────────────────────────────────────────\n",
       "1                  │         5.55556             -0.0          3.33333\n",
       "2                  │         5.55556             -0.0          3.33333\n",
       "3                  │         5.55556             -0.0          3.33333\n",
       "4                  │         5.55556             -0.0          3.33333\n",
       "5                  │         5.55556             -0.0          3.33333\n",
       "6                  │         5.55556             -0.0          3.33333\n",
       "7                  │         5.55556             -0.0          3.33333\n",
       "8                  │         5.55556             -0.0          3.33333\n",
       "9                  │         5.55556             -0.0          3.33333\n",
       "10                 │         5.55556             -0.0          3.33333"
      ]
     },
     "metadata": {},
     "output_type": "display_data"
    },
    {
     "name": "stdout",
     "output_type": "stream",
     "text": [
      "\n"
     ]
    },
    {
     "data": {
      "text/plain": [
       "2-element Named Vector{Int64}\n",
       "Nutrient Requirements  │ \n",
       "───────────────────────┼─────\n",
       "calories               │ 2000\n",
       "protein                │  100"
      ]
     },
     "metadata": {},
     "output_type": "display_data"
    },
    {
     "name": "stdout",
     "output_type": "stream",
     "text": [
      "\n"
     ]
    },
    {
     "data": {
      "text/plain": [
       "3×2 Named Matrix{Int64}\n",
       "Ingredients ╲ Nutrients │ calories   protein\n",
       "────────────────────────┼───────────────────\n",
       "rice                    │      300         0\n",
       "chicken_nuggets         │      200         5\n",
       "steak                   │      400        30"
      ]
     },
     "metadata": {},
     "output_type": "display_data"
    },
    {
     "name": "stdout",
     "output_type": "stream",
     "text": [
      "\n",
      "Recipes cooked per week\n"
     ]
    },
    {
     "data": {
      "text/plain": [
       "10×2 Named Matrix{Float64}\n",
       "Week ╲ Recipes │ steak_and_rice    just_nuggets\n",
       "───────────────┼───────────────────────────────\n",
       "1              │        1.11111             0.0\n",
       "2              │        1.11111             0.0\n",
       "3              │        1.11111             0.0\n",
       "4              │        1.11111             0.0\n",
       "5              │        1.11111             0.0\n",
       "6              │        1.11111             0.0\n",
       "7              │        1.11111             0.0\n",
       "8              │        1.11111             0.0\n",
       "9              │        1.11111             0.0\n",
       "10             │        1.11111             0.0"
      ]
     },
     "metadata": {},
     "output_type": "display_data"
    },
    {
     "name": "stdout",
     "output_type": "stream",
     "text": [
      "\n"
     ]
    },
    {
     "data": {
      "text/plain": [
       "2×3 Named Matrix{Int64}\n",
       "Recipes ╲ Ingredients │            rice  chicken_nuggets            steak\n",
       "──────────────────────┼──────────────────────────────────────────────────\n",
       "steak_and_rice        │               5                0                3\n",
       "just_nuggets          │               0               10                0"
      ]
     },
     "metadata": {},
     "output_type": "display_data"
    },
    {
     "name": "stdout",
     "output_type": "stream",
     "text": [
      "\n",
      "Total cost 777.7777777777778\n"
     ]
    }
   ],
   "source": [
    "# for now leave out multi-period planning and general form - too complex\n",
    "using Random, NamedArrays\n",
    "\n",
    "# Data 1:\n",
    "I = [:rice, :chicken_nuggets, :steak]\n",
    "N = [:calories, :protein]\n",
    "R = [:steak_and_rice, :just_nuggets]\n",
    "Req = NamedArray([5 0 3; 0 10 0], (R, I), (\"Recipes\", \"Ingredients\")) \n",
    "F = NamedArray([300 0; 200 5; 400 30], (I, N), (\"Ingredients\", \"Nutrients\"))\n",
    "S = NamedArray([2000, 100], N, \"Nutrient Requirements\")\n",
    "C = NamedArray([5 5 15; 5 5 15; 5 5 15; 5 5 15; 5 5 15;\n",
    "    5 5 15; 5 5 15; 5 5 15; 5 5 15; 5 5 15;],\n",
    "    (T, I), (\"Week\", \"Ingredients\"))\n",
    "T = 1:10\n",
    "FR_CAP = 1000\n",
    "\n",
    "#Data 2:\n",
    "# Random.seed!(300)\n",
    "# I = [\"rice\", \"chicken nuggets\", \"steak\",\n",
    "# \"apple\", \"orange\", \"celery\", \"yogurt\"]\n",
    "# cost of item is roughly equivalent to string length\n",
    "# C = [length(I)]\n",
    "# for i in length(I)\n",
    "#     C[i] = length(I[i]) + 2 * Random.randn()\n",
    "# end\n",
    "\n",
    "\n",
    "# make the model\n",
    "using JuMP, HiGHS\n",
    "\n",
    "m = Model(HiGHS.Optimizer)\n",
    "\n",
    "@variable(m, x[I, T] >= 0)\n",
    "@variable(m, y[R, T] >= 0)\n",
    "\n",
    "# Indexing Guide:\n",
    "#\n",
    "# t - time, i - ingredient, r - recipe, n - nutrient\n",
    "# x[t, i], y[t, r], Req[r, i], F[i, n]\n",
    "\n",
    "@constraint(m, nutr_satisfied[n in N, t in T],\n",
    "    sum(y[r, t] * sum(Req[r, i] * F[i, n] for i in I) for r in R) >= S[n])\n",
    "\n",
    "@constraint(m, enough_ingr_for_recipes[i in I, t in T],\n",
    "    x[i, t] >= sum( Req[r, i]*y[r, t] for r in R )) \n",
    "\n",
    "@constraint(m, fridge_capacity[t in T], sum( x[i, t] for i in I ) <= FR_CAP)\n",
    "\n",
    "@objective(m, Min, sum( x[i, t] * C[t, i] for i in I, t in T ))\n",
    "\n",
    "set_silent(m)\n",
    "optimize!(m)\n",
    "\n",
    "ingredient_values = NamedArray( [ (value(x[i, t])) for t in T, i in I ], (T, I), (\"Week\", \"Ingredients\"))\n",
    "recipe_values = NamedArray( [ (value(y[r, t])) for t in T, r in R ], (T, R), (\"Week\", \"Recipes\"))\n",
    "\n",
    "display(ingredient_values)\n",
    "println()\n",
    "\n",
    "display(S)\n",
    "println()\n",
    "\n",
    "display(F)\n",
    "println()\n",
    "\n",
    "println(\"Recipes cooked per week\")\n",
    "display(recipe_values)\n",
    "println()\n",
    "\n",
    "display(Req)\n",
    "println()\n",
    "\n",
    "# println(\"Buy ingredients \", value.(x))\n",
    "# println(\"Make recipes \", value.(y))\n",
    "println(\"Total cost \", objective_value(m))"
   ]
  },
  {
   "cell_type": "code",
   "execution_count": null,
   "id": "b11053ef-7d7d-4ebb-bb66-2e47b1777b5a",
   "metadata": {},
   "outputs": [],
   "source": [
    "#using DataFrames, CSV\n",
    "#df = CSV.read(\"stigler.csv\",DataFrame,delim=',')"
   ]
  }
 ],
 "metadata": {
  "kernelspec": {
   "display_name": "Julia 1.11.5",
   "language": "julia",
   "name": "julia-1.11"
  },
  "language_info": {
   "file_extension": ".jl",
   "mimetype": "application/julia",
   "name": "julia",
   "version": "1.11.5"
  }
 },
 "nbformat": 4,
 "nbformat_minor": 5
}
