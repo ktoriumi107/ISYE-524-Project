{
 "cells": [
  {
   "cell_type": "code",
   "execution_count": 1,
   "id": "4dff9b8a-89d2-43f5-8a7b-2e4e60554d22",
   "metadata": {},
   "outputs": [
    {
     "ename": "LoadError",
     "evalue": "UndefVarError: `N` not defined in `Main`\nSuggestion: check for spelling errors or missing imports.",
     "output_type": "error",
     "traceback": [
      "UndefVarError: `N` not defined in `Main`\nSuggestion: check for spelling errors or missing imports.",
      "",
      "Stacktrace:",
      " [1] top-level scope",
      "\u001b[90m   @\u001b[39m \u001b[90m\u001b[4mIn[1]:17\u001b[24m\u001b[39m"
     ]
    }
   ],
   "source": [
    "# for now leave out multi-period planning and general form - too complex\n",
    "using Random, NamedArrays, Plots\n",
    "\n",
    "T_end = 10\n",
    "T = 1:T_end\n",
    "FR_CAP = 100\n",
    "\n",
    "#Data 2:\n",
    "Random.seed!(300)\n",
    "\n",
    "# INGREDIENT DATA\n",
    "I = [:rice, :chicken, :steak, :noodles, :cream, :tomato, :asparagus, :bread, :tofu, :banana, :yogurt, :cereal]\n",
    "\n",
    "Cinit = [.1, .375, .9375, .08, .30, .1369, .2369, .16, .14, .0431, .20, .36] # dollars / oz\n",
    "\n",
    "# g / oz\n",
    "F = NamedArray([37 .76 .11 8 .08 1 1;\n",
    "        47 8.8 0 0 1 .25 3;\n",
    "        53 8.3 0 0 2.2 .25 3.5;\n",
    "        45 1.6 .51 8.7 .26 0 .5;\n",
    "        96 .81 0 .81 10.2 1 1;\n",
    "        5 .25 .34 1.1 .06 3 1.5;\n",
    "        6 .62 .6 1.1 .03 2 2;\n",
    "        76 2.5 .77 14 .95 0 1.5;\n",
    "        41 4.9 .65 .79 2.5 1 3;\n",
    "        25 .31 .74 6.5 .09 1.5 3.5;\n",
    "        17 .98 0 1.3 .92 .5 1.25;\n",
    "        92 2.2 3.9 22.4 .45 .75 3;\n",
    "        ], (I, N), (\"Ingredients\", \"Nutrients\"))\n",
    "\n",
    "# INGREDIENT DATA\n",
    "\n",
    "N = [:calories, :protein, :fiber, :carbs, :fat, :vitamins, :minerals]\n",
    "\n",
    "R = [:steak_rice_asparagus, :just_nuggets, :chicken_marinara, :steak_alfredo]\n",
    "\n",
    "# Each recipe uses about 10 total units of ingredient\n",
    "Req = NamedArray([5 0 3 0 0 0 3; 0 10 0 0 0 0 0; 0 2 0 5 0 3 0; 0 0 3 5 2 0 0], (R, I), (\"Recipes\", \"Ingredients\")) \n",
    "\n",
    "S = NamedArray([2000, 80, 15, 100, 10, 20, 20], N, \"Nutrient Requirements\")\n",
    "\n",
    "\n",
    "\n",
    "C = NamedArray(zeros(Float64, length(T), length(I)), (T, I), (\"Week\", \"Ingredients\"))\n",
    "\n",
    "# Creating prices that randomly over time\n",
    "for i in 1:length(I)\n",
    "    C[1, i] = length(String(I[i]))\n",
    "end\n",
    "\n",
    "for t in 2:length(T)\n",
    "    for i in 1:length(I)\n",
    "        C[t, i] = C[t - 1, i] + .5 * Random.randn() + .025 * C[t - 1, i]\n",
    "        if C[t, i] <= 1\n",
    "            C[t, i] = 1.0\n",
    "        end\n",
    "    end\n",
    "end\n"
   ]
  }
 ],
 "metadata": {
  "kernelspec": {
   "display_name": "Julia 1.11.5",
   "language": "julia",
   "name": "julia-1.11"
  },
  "language_info": {
   "file_extension": ".jl",
   "mimetype": "application/julia",
   "name": "julia",
   "version": "1.11.5"
  }
 },
 "nbformat": 4,
 "nbformat_minor": 5
}
